{
 "cells": [
  {
   "cell_type": "code",
   "execution_count": null,
   "metadata": {},
   "outputs": [],
   "source": [
    "from pathlib import Path\n",
    "\n",
    "from ase.build import bulk\n",
    "from ase.filters import FrechetCellFilter\n",
    "from ase.io import Trajectory\n",
    "from ase.optimize import LBFGSLineSearch"
   ]
  },
  {
   "cell_type": "markdown",
   "metadata": {},
   "source": [
    "Import `ASECalculator` objects for the different ML potentials"
   ]
  },
  {
   "cell_type": "code",
   "execution_count": null,
   "metadata": {},
   "outputs": [],
   "source": [
    "# import matgl\n",
    "# from matgl.ext.ase import M3GNetCalculator\n",
    "# from chgnet.model import CHGNetCalculator\n",
    "from mace.calculators import mace_mp\n",
    "\n",
    "# from orb_models.forcefield import pretrained\n",
    "# from orb_models.forcefield.calculator import ORBCalculator\n",
    "from sevenn.sevennet_calculator import SevenNetCalculator"
   ]
  },
  {
   "cell_type": "code",
   "execution_count": null,
   "metadata": {},
   "outputs": [],
   "source": [
    "device = \"cpu\"  # e.g. 'cuda:0' or 'cpu'\n",
    "\n",
    "calculators = {\n",
    "    \"sevenn\": SevenNetCalculator(\"7net-0\", device=device),\n",
    "    \"mace\": mace_mp(device=device, default_dtype=\"float64\"),\n",
    "    #    \"chgnet\": CHGNetCalculator(use_device=device),\n",
    "    #    \"m3gnet\": M3GNetCalculator(potential=matgl.load_model(\"M3GNet-MP-2021.2.8-PES\")),\n",
    "    # \"orb\": ORBCalculator(pretrained.orb_v2(device=device), device=device),\n",
    "}"
   ]
  },
  {
   "cell_type": "code",
   "execution_count": null,
   "metadata": {},
   "outputs": [],
   "source": [
    "structure = bulk(\"CeO2\", \"fluorite\", a=5.411)"
   ]
  },
  {
   "cell_type": "code",
   "execution_count": null,
   "metadata": {},
   "outputs": [],
   "source": [
    "optimized_structures = {}\n",
    "\n",
    "for _name, calculator in calculators.items():\n",
    "    structure.calc = calculator\n",
    "    fcf = FrechetCellFilter(structure)\n",
    "    opt = LBFGSLineSearch(fcf)\n",
    "    opt.attach(Trajectory(\"opt.traj\", \"w\", structure))\n",
    "    opt.run(fmax=0.001)\n",
    "\n",
    "    optimized_structures[_name] = structure\n",
    "    Path(\"opt.traj\").unlink()"
   ]
  },
  {
   "cell_type": "code",
   "execution_count": null,
   "metadata": {},
   "outputs": [],
   "source": [
    "from numpy.testing import assert_allclose\n",
    "\n",
    "# Assert that energies and lattice parameters fit to the expected values\n",
    "expected_values = {\n",
    "    \"sevenn\": {\"energy\": -26.181656, \"lattice_param\": 5.411},\n",
    "    \"mace\": {\"energy\": -26.181656, \"lattice_param\": 5.411},\n",
    "    \"orb\": {\"energy\": --26.181656, \"lattice_param\": 5.411},\n",
    "    #    \"chgnet\": {\"energy\": -26.181656, \"lattice_param\": 5.411},\n",
    "    #    \"m3gnet\": {\"energy\": -26.181656, \"lattice_param\": 5.411},\n",
    "}\n",
    "\n",
    "for name, structure in optimized_structures.items():\n",
    "    assert_allclose(structure.get_potential_energy(), expected_values[name][\"energy\"], atol=1e-2)\n",
    "    print(structure.cell)\n",
    "    # assert_allclose(structure.cell[0, 0], expected_values[name][\"lattice_param\"], atol=1e-2)"
   ]
  }
 ],
 "metadata": {
  "kernelspec": {
   "display_name": "Python 3",
   "language": "python",
   "name": "python3"
  },
  "language_info": {
   "name": "python",
   "version": "3.12.0"
  }
 },
 "nbformat": 4,
 "nbformat_minor": 2
}
